{
 "cells": [
  {
   "cell_type": "code",
   "execution_count": 79,
   "outputs": [],
   "source": [
    "from underthesea import word_tokenize"
   ],
   "metadata": {
    "collapsed": false,
    "pycharm": {
     "name": "#%%\n"
    }
   }
  },
  {
   "cell_type": "code",
   "execution_count": 80,
   "metadata": {
    "collapsed": true
   },
   "outputs": [],
   "source": [
    "import re\n",
    "import pandas as pd"
   ]
  },
  {
   "cell_type": "code",
   "execution_count": 81,
   "outputs": [],
   "source": [
    "bad_word = pd.read_csv('bad_words.csv')\n",
    "bad_word.word = bad_word.word.str.replace('_', ' ')\n",
    "bad_words = bad_word.word"
   ],
   "metadata": {
    "collapsed": false,
    "pycharm": {
     "name": "#%%\n"
    }
   }
  },
  {
   "cell_type": "code",
   "execution_count": 82,
   "outputs": [
    {
     "data": {
      "text/plain": "   Unnamed: 0       word\n0           0   nứng lồn\n1           1   nứng cặc\n2           2  siêu nứng\n3           3       nứng\n4           4        địt",
      "text/html": "<div>\n<style scoped>\n    .dataframe tbody tr th:only-of-type {\n        vertical-align: middle;\n    }\n\n    .dataframe tbody tr th {\n        vertical-align: top;\n    }\n\n    .dataframe thead th {\n        text-align: right;\n    }\n</style>\n<table border=\"1\" class=\"dataframe\">\n  <thead>\n    <tr style=\"text-align: right;\">\n      <th></th>\n      <th>Unnamed: 0</th>\n      <th>word</th>\n    </tr>\n  </thead>\n  <tbody>\n    <tr>\n      <th>0</th>\n      <td>0</td>\n      <td>nứng lồn</td>\n    </tr>\n    <tr>\n      <th>1</th>\n      <td>1</td>\n      <td>nứng cặc</td>\n    </tr>\n    <tr>\n      <th>2</th>\n      <td>2</td>\n      <td>siêu nứng</td>\n    </tr>\n    <tr>\n      <th>3</th>\n      <td>3</td>\n      <td>nứng</td>\n    </tr>\n    <tr>\n      <th>4</th>\n      <td>4</td>\n      <td>địt</td>\n    </tr>\n  </tbody>\n</table>\n</div>"
     },
     "execution_count": 82,
     "metadata": {},
     "output_type": "execute_result"
    }
   ],
   "source": [
    "bad_word.head()"
   ],
   "metadata": {
    "collapsed": false,
    "pycharm": {
     "name": "#%%\n"
    }
   }
  },
  {
   "cell_type": "code",
   "execution_count": 83,
   "outputs": [
    {
     "data": {
      "text/plain": "{'ctrai': 'con trai',\n 'khôg': 'không',\n 'bme': 'bố mẹ',\n 'cta': 'chúng ta',\n 'mih': 'mình',\n 'mqh': 'mối quan hệ',\n 'cgai': 'con gái',\n 'nhữg': 'những',\n 'mng': 'mọi người',\n 'svtn': 'sinh viên tình nguyện',\n 'r': 'rồi',\n 'qtam': 'quan tâm',\n 'thươg': 'thương',\n 'qtâm': 'quan tâm',\n 'chug': 'chung',\n 'trườg': 'trường',\n 'thoy': 'thôi',\n 'đki': 'đăng ký',\n 'atsm': 'ảo tưởng sức mạnh',\n 'ạk': 'ạ',\n 'cv': 'công việc',\n 'vch': 'vãi chưởng',\n 'cùg': 'cùng',\n 'pn': 'bạn',\n 'pjt': 'biết',\n 'thjk': 'thích',\n 'keke': 'ce ce',\n 'ktra': 'kiểm tra',\n 'nek': 'nè',\n 'cgái': 'con gái',\n 'nthe': 'như thế',\n 'chúg': 'chúng',\n 'kái': 'cái',\n 'tìh': 'tình',\n 'phòg': 'phòng',\n 'lòg': 'lòng',\n 'từg': 'từng',\n 'rằg': 'rằng',\n 'sốg': 'sống',\n 'thuj': 'thôi',\n 'thuơng': 'thương',\n 'càg': 'càng',\n 'đky': 'đăng ký',\n 'bằg': 'bằng',\n 'sviên': 'sinh viên',\n 'ák': 'á',\n 'đág': 'đáng',\n 'nvay': 'như vậy',\n 'nhjeu': 'nhiều',\n 'xg': 'xuống',\n 'zồi': 'rồi',\n 'trag': 'trang',\n 'zữ': 'dữ',\n 'atrai': 'anh trai',\n 'kte': 'kinh tế',\n 'độg': 'động',\n 'lmht': 'liên minh huyền thoại',\n 'gắg': 'gắng',\n 'đzai': 'đẹp trai',\n 'thgian': 'thời gian',\n 'plz': 'pờ ly',\n 'đồg': 'đồng',\n 'btrai': 'bạn trai',\n 'nthê': 'như thế',\n 'hìhì': 'hì hì',\n 'vọg': 'vọng',\n 'hihe': 'hi he',\n 'đôg': 'đông',\n 'răg': 'răng',\n 'thườg': 'thường',\n 'tcảm': 'tình cảm',\n 'đứg': 'đứng',\n 'ksao': 'không sao',\n 'dz': 'đẹp trai',\n 'hjxhjx': 'hix hix',\n 'cmày': 'chúng mày',\n 'xuốg': 'xuống',\n 'nkư': 'như',\n 'lquan': 'liên quan',\n 'tiếg': 'tiếng',\n 'hajz': 'hai',\n 'xih': 'xinh',\n 'hìh': 'hình',\n 'thàh': 'thành',\n 'ngke': 'nghe',\n 'dzậy': 'dậy',\n 'teencode': 'tin cốt',\n 'tnào': 'thế nào',\n 'tưởg': 'tưởng',\n 'ctrinh': 'chương trình',\n 'phog': 'phong',\n 'hôg': 'không',\n 'zìa': 'gì',\n 'kũg': 'cũng',\n 'ntnao': 'như thế nào',\n 'trọg': 'trọng',\n 'nthế': 'như thế',\n 'năg': 'năng',\n 'ngđó': 'người đó',\n 'lquen': 'làm quen',\n 'riêg': 'riêng',\n 'ngag': 'ngang',\n 'hêhê': 'hê hê',\n 'bnhiu': 'bao nhiêu',\n 'ngốk': 'ngốc',\n 'kậu': 'cậu',\n 'highland': 'hai lừn',\n 'kqua': 'kết quả',\n 'htrc': 'hôm trước',\n 'địh': 'định',\n 'gđình': 'gia đinh',\n 'giốg': 'giống',\n 'csống': 'cuộc sống',\n 'xug': 'xùng',\n 'zùi': 'rồi',\n 'bnhiêu': 'bao nhiêu',\n 'cbị': 'chuẩn bị',\n 'kòn': 'còn',\n 'buôg': 'buông',\n 'csong': 'cuộc sống',\n 'chàg': 'chàng',\n 'chăg': 'chăng',\n 'ngàh': 'ngành',\n 'llac': 'liên lạc',\n 'nkưng': 'nhưng',\n 'nắg': 'nắng',\n 'tíh': 'tính',\n 'khoảg': 'khoảng',\n 'thík': 'thích',\n 'ngđo': 'người đó',\n 'ngkhác': 'người khác',\n 'thẳg': 'thẳng',\n 'kảm': 'cảm',\n 'dàh': 'dành',\n 'júp': 'giúp',\n 'lặg': 'lặng',\n 'vđê': 'vấn đề',\n 'bbè': 'bạn bè',\n 'bóg': 'bóng',\n 'dky': 'đăng ký',\n 'dòg': 'dòng',\n 'uốg': 'uống',\n 'tyêu': 'tình yêu',\n 'snvv': 'sinh nhật vui vẻ',\n 'đthoại': 'điện thoại',\n 'qhe': 'quan hệ',\n 'cviec': 'công việc',\n 'tượg': 'tượng',\n 'qà': 'quà',\n 'thjc': 'thích',\n 'nhưq': 'nhưng',\n 'cđời': 'cuộc đời',\n 'bthường': 'bình thường',\n 'zà': 'già',\n 'đáh': 'đánh',\n 'xloi': 'xin lỗi',\n 'zám': 'dám',\n 'qtrọng': 'quan trọng',\n 'bìh': 'bình',\n 'lzi': 'làm gì',\n 'qhệ': 'quan hệ',\n 'đhbkhn': 'đại học bách khoa hà nội',\n 'hajzz': 'hai',\n 'kủa': 'của',\n 'lz': 'làm gì',\n 'đhkhtn': 'đại học khoa học tự nhiên',\n 'đóg': 'đóng',\n 'cka': 'cha',\n 'lgi': 'làm gì',\n 'nvậy': 'như vậy',\n 'qả': 'quả',\n 'đkiện': 'điều kiện',\n 'nèk': 'nè',\n 'tlai': 'tương lai',\n 'bsĩ': 'bác sĩ',\n 'hkì': 'học kỳ',\n 'đcsvn': 'đảng cộng sản việt nam',\n 'vde': 'vấn đề',\n 'chta': 'chúng ta',\n 'òy': 'rồi',\n 'ltinh': 'linh tinh',\n 'ngyeu': 'người yêu',\n 'đthoai': 'điện thoại',\n 'snghĩ': 'suy nghĩ',\n 'nặg': 'nặng',\n 'họk': 'học',\n 'dừg': 'dừng',\n 'hphúc': 'hạnh phúc',\n 'hiha': 'hi ha',\n 'wtâm': 'quan tâm',\n 'thíck': 'thích',\n 'chuện': 'chuyện',\n 'lạh': 'lạnh',\n 'fây': 'phây',\n 'ntnày': 'như thế này',\n 'lúk': 'lúc',\n 'haj': 'hai',\n 'ngía': 'nghía',\n 'mớj': 'mới',\n 'hsơ': 'hồ sơ',\n 'ctraj': 'con trai',\n 'nyêu': 'người yêu',\n 'điiiiiii': 'đi',\n 'rồii': 'rồi',\n 'c': 'chị',\n 'kih': 'kinh',\n 'kb': 'kết bạn',\n 'hixxx': 'hích',\n 'dthương': 'dễ thương',\n 'nhiềuuu': 'nhiều',\n 'ctrình': 'chương trình',\n 'mìnk': 'mình',\n 'mjh': 'mình',\n 'ng': 'người',\n 'vc': 'vợ chồng',\n 'uhm': 'ừm',\n 'thỳ': 'thì',\n 'nyc': 'người yêu cũ',\n 'tks': 'thanks',\n 'nàg': 'nàng',\n 'thôii': 'thôi',\n 'đjên': 'điên',\n 'bgái': 'bạn gái',\n 'vớii': 'với',\n 'xink': 'xinh',\n 'hđộng': 'hành động',\n 'đhọc': 'đại học',\n 'mk': 'mình',\n 'bn': 'bạn',\n 'thik': 'thích',\n 'cj': 'chị',\n 'mn': 'mọi người',\n 'nguoi': 'người',\n 'nógn': 'nóng',\n 'hok': 'không',\n 'ko': 'không',\n 'bik': 'biết',\n 'vs': 'với',\n 'cx': 'cũng',\n 'mik': 'mình',\n 'wtf': 'what the fuck',\n 'đc': 'được',\n 'cmt': 'comment',\n 'ck': 'chồng',\n 'chk': 'chồng',\n 'ngta': 'người ta',\n 'gđ': 'gia đình',\n 'oh': 'ồ',\n 'vk': 'vợ',\n 'ctác': 'công tác',\n 'sg': 'sài gòn',\n 'ae': 'anh em',\n 'ah': 'à',\n 'ạh': 'ạ',\n 'rì': 'gì',\n 'ms': 'mới',\n 'vn': 'việt nam',\n 'nhaa': 'nha',\n 'cũg': 'cũng',\n 'đag': 'đang',\n 'ơiii': 'ơi',\n 'hic': 'hích',\n 'ace': 'anh chị em',\n 'àk': 'à',\n 'uh': 'ừ',\n 'cmm': 'con mẹ mày',\n 'cmnr': 'con mẹ nó rồi',\n 'ơiiii': 'ơi',\n 'hnay': 'hôm nay',\n 'ukm': 'ừm',\n 'tq': 'trung quốc',\n 'ctr': 'chương trình',\n 'đii': 'đi',\n 'nch': 'nói chuyện',\n 'trieu': 'triệu',\n 'hahah': 'ha ha',\n 'nta': 'người ta',\n 'ngèo': 'nghèo',\n 'kêh': 'kênh',\n 'ak': 'à',\n 'ad': 'admin',\n 'j': 'gì',\n 'ny': 'người yêu',\n 'dc': 'được',\n 'qc': 'quảng cáo',\n 'baoh': 'bao giờ',\n 'zui': 'vui',\n 'zẻ': 'vẻ',\n 'tym': 'tim',\n 'aye': 'anh yêu em',\n 'eya': 'em yêu anh',\n 'fb': 'facebook',\n 'insta': 'instagram',\n 'z': 'vậy',\n 'thich': 'thích',\n 'vcl': 'vờ cờ lờ',\n 'đt': 'điện thoại',\n 'acc': 'account',\n 'lol': 'lồn',\n 'loz': 'lồn',\n 'lozz': 'lồn',\n 'trc': 'trước',\n 'chs': 'chẳng hiểu sao',\n 'đhs': 'đéo hiểu sao',\n 'qá': 'quá',\n 'ntn': 'như thế nào',\n 'wá': 'quá',\n 'zậy': 'vậy',\n 'zô': 'dô',\n 'ytb': 'youtube',\n 'vđ': 'vãi đái',\n 'vchg': 'vãi chưởng',\n 'sml': 'sấp mặt lờ',\n 'xl': 'xin lỗi',\n 'cmn': 'con mẹ nó',\n 'face': 'facebook',\n 'hjhj': 'hi hi',\n 'vv': 'vui vẻ',\n 'ns': 'nói',\n 'iu': 'yêu',\n 'vcđ': 'vãi cả đái',\n 'in4': 'info',\n 'qq': 'quằn què',\n 'sub': 'subcribe',\n 'kh': 'không',\n 'zạ': 'vậy',\n 'oy': 'rồi',\n 'jo': 'giờ',\n 'clmm': 'cái lồn mẹ mày',\n 'bsvv': 'buổi sáng vui vẻ',\n 'troai': 'trai',\n 'wa': 'quá',\n 'hjx': 'hix',\n 'e': 'em',\n 'ik': 'ý',\n 'ji': 'gì',\n 'ce': 'chị em',\n 'lm': 'làm',\n 'đz': 'đẹp giai',\n 'sr': 'sorry',\n 'ib': 'inbox',\n 'hoy': 'thôi',\n 'đbh': 'đéo bao giờ',\n 'k': 'không',\n 'vd': 'ví dụ',\n 'a': 'anh',\n 'cũng z': 'cũng vậy',\n 'z là': 'vậy là',\n 'unf': 'unfriend',\n 'my fen': 'my friend',\n 'fen': 'friend',\n 'cty': 'công ty',\n 'on lai': 'online',\n 'u hai ba': 'u23',\n 'kô': 'không',\n 'đtqg': 'đội tuyển quốc gia',\n 'hqua': 'hôm qua',\n 'xog': 'xong',\n 'uk': 'ừ',\n 'nhoé': 'nhé',\n 'biet': 'biết',\n 'quí': 'quý',\n 'stk': 'số tài khoản',\n 'hong kong': 'hồng kông',\n 'đươc': 'được',\n 'nghành': 'ngành',\n 'nvqs': 'nghĩa vụ quân sự',\n 'ngừoi': 'người',\n 'trog': 'trong',\n 'tgian': 'thời gian',\n 'biêt': 'biết',\n 'fải': 'phải',\n 'nguời': 'người',\n 'tđn': 'thế đéo nào',\n 'bth': 'bình thường',\n 'tgdd': 'thế giới di động',\n 'khg': 'không',\n 'nhưg': 'nhưng',\n 'thpt': 'trung học phổ thông',\n 'thằg': 'thằng',\n 'đuợc': 'được',\n 'àh': 'à',\n 'ku': 'cu',\n 'thým': 'thím',\n 'onl': 'online',\n 'zú': 'vú',\n 'cmnd': 'chứng minh nhân dân',\n 'sđt': 'số điện thoại',\n 'klq': 'không liên quan'}"
     },
     "execution_count": 83,
     "metadata": {},
     "output_type": "execute_result"
    }
   ],
   "source": [
    "teencode = pd.read_csv('teencode.csv')\n",
    "teen_code = {}\n",
    "for word in teencode.words:\n",
    "    wordlist = word.split('\\t')\n",
    "    teen_code[wordlist[0]] = wordlist[1]\n",
    "teen_code"
   ],
   "metadata": {
    "collapsed": false,
    "pycharm": {
     "name": "#%%\n"
    }
   }
  },
  {
   "cell_type": "code",
   "execution_count": 85,
   "outputs": [],
   "source": [
    "test = pd.read_csv('E:/ESSAY/PreProcessing/test.csv')\n",
    "val = pd.read_csv('E:/ESSAY/PreProcessing/val.csv')\n",
    "train = pd.read_csv('E:/ESSAY/Model/train.csv')"
   ],
   "metadata": {
    "collapsed": false,
    "pycharm": {
     "name": "#%%\n"
    }
   }
  },
  {
   "cell_type": "code",
   "execution_count": 86,
   "outputs": [
    {
     "data": {
      "text/plain": "   Unnamed: 0  rating_star                                            comment\n0           0            1  Shop giao hàng cũ không kiểm tra . Tai nghe mộ...\n1           1            1  Giao hàng qua lâu ...............................\n2           2            1                      Tai nghe giá rẻ nghe rất chán\n3           3            1  Bán hàng không như quảng cáo, gian dối, nói mộ...\n4           4            1  Tai nghe gì mà bật nhạc trẻ lên nghe xong âm t...",
      "text/html": "<div>\n<style scoped>\n    .dataframe tbody tr th:only-of-type {\n        vertical-align: middle;\n    }\n\n    .dataframe tbody tr th {\n        vertical-align: top;\n    }\n\n    .dataframe thead th {\n        text-align: right;\n    }\n</style>\n<table border=\"1\" class=\"dataframe\">\n  <thead>\n    <tr style=\"text-align: right;\">\n      <th></th>\n      <th>Unnamed: 0</th>\n      <th>rating_star</th>\n      <th>comment</th>\n    </tr>\n  </thead>\n  <tbody>\n    <tr>\n      <th>0</th>\n      <td>0</td>\n      <td>1</td>\n      <td>Shop giao hàng cũ không kiểm tra . Tai nghe mộ...</td>\n    </tr>\n    <tr>\n      <th>1</th>\n      <td>1</td>\n      <td>1</td>\n      <td>Giao hàng qua lâu ...............................</td>\n    </tr>\n    <tr>\n      <th>2</th>\n      <td>2</td>\n      <td>1</td>\n      <td>Tai nghe giá rẻ nghe rất chán</td>\n    </tr>\n    <tr>\n      <th>3</th>\n      <td>3</td>\n      <td>1</td>\n      <td>Bán hàng không như quảng cáo, gian dối, nói mộ...</td>\n    </tr>\n    <tr>\n      <th>4</th>\n      <td>4</td>\n      <td>1</td>\n      <td>Tai nghe gì mà bật nhạc trẻ lên nghe xong âm t...</td>\n    </tr>\n  </tbody>\n</table>\n</div>"
     },
     "execution_count": 86,
     "metadata": {},
     "output_type": "execute_result"
    }
   ],
   "source": [
    "val.head()"
   ],
   "metadata": {
    "collapsed": false,
    "pycharm": {
     "name": "#%%\n"
    }
   }
  },
  {
   "cell_type": "code",
   "execution_count": 87,
   "outputs": [
    {
     "data": {
      "text/plain": "   Unnamed: 0  rating_star                                            comment\n0           0            1  Kích thước tai nghe quá to, cồng kềnh ko phù h...\n1           1            1       Hàng chất lượng kém , thời gian giao thì lâu\n2           2            1  Tai nghe rất ổn,chất âm rõ nhưng dùng được 2 n...\n3           3            1                                  Chất lượng quá tệ\n4           4            1  Sản phẩm như con cẹ.c treo thịt chó bán thịt d...",
      "text/html": "<div>\n<style scoped>\n    .dataframe tbody tr th:only-of-type {\n        vertical-align: middle;\n    }\n\n    .dataframe tbody tr th {\n        vertical-align: top;\n    }\n\n    .dataframe thead th {\n        text-align: right;\n    }\n</style>\n<table border=\"1\" class=\"dataframe\">\n  <thead>\n    <tr style=\"text-align: right;\">\n      <th></th>\n      <th>Unnamed: 0</th>\n      <th>rating_star</th>\n      <th>comment</th>\n    </tr>\n  </thead>\n  <tbody>\n    <tr>\n      <th>0</th>\n      <td>0</td>\n      <td>1</td>\n      <td>Kích thước tai nghe quá to, cồng kềnh ko phù h...</td>\n    </tr>\n    <tr>\n      <th>1</th>\n      <td>1</td>\n      <td>1</td>\n      <td>Hàng chất lượng kém , thời gian giao thì lâu</td>\n    </tr>\n    <tr>\n      <th>2</th>\n      <td>2</td>\n      <td>1</td>\n      <td>Tai nghe rất ổn,chất âm rõ nhưng dùng được 2 n...</td>\n    </tr>\n    <tr>\n      <th>3</th>\n      <td>3</td>\n      <td>1</td>\n      <td>Chất lượng quá tệ</td>\n    </tr>\n    <tr>\n      <th>4</th>\n      <td>4</td>\n      <td>1</td>\n      <td>Sản phẩm như con cẹ.c treo thịt chó bán thịt d...</td>\n    </tr>\n  </tbody>\n</table>\n</div>"
     },
     "execution_count": 87,
     "metadata": {},
     "output_type": "execute_result"
    }
   ],
   "source": [
    "test.head()"
   ],
   "metadata": {
    "collapsed": false,
    "pycharm": {
     "name": "#%%\n"
    }
   }
  },
  {
   "cell_type": "code",
   "execution_count": 59,
   "outputs": [],
   "source": [
    "def transform(text):\n",
    "    return re.sub(r'\\W+', ' ', text)\n",
    "\n",
    "def transform_lower(text):\n",
    "    return text.lower()\n",
    "\n",
    "def transform_dash(text):\n",
    "    return text.replace('_', ' ')"
   ],
   "metadata": {
    "collapsed": false,
    "pycharm": {
     "name": "#%%\n"
    }
   }
  },
  {
   "cell_type": "code",
   "execution_count": 60,
   "outputs": [],
   "source": [
    "train.comment = train.comment.apply(transform)\n",
    "train.comment = train.comment.apply(transform_lower)"
   ],
   "metadata": {
    "collapsed": false,
    "pycharm": {
     "name": "#%%\n"
    }
   }
  },
  {
   "cell_type": "code",
   "execution_count": 61,
   "outputs": [
    {
     "data": {
      "text/plain": "   index  rating                                            comment  Quality  \\\n0      0       1                        màu nhợt mhat qua thất vọng       -1   \n1      1       1               âm thanh không phù hợp để chơi game        -1   \n2      2       3  đặt 2 đơn 1 đỏ 1 đen đưa đến lại là 2 cái đen ...        0   \n3      3       1                              hàng hơi xấu với trơn       -1   \n4      4       1  hàng mới sài 3 bữa thì hư mất 1 loa vệ tinh ro...       -1   \n\n   Serve Price  Pack  Shipping  \n0      0     0     0         0  \n1      0     0     0         0  \n2      0     0     0        -1  \n3      0     0     0         0  \n4      0     0     0         0  ",
      "text/html": "<div>\n<style scoped>\n    .dataframe tbody tr th:only-of-type {\n        vertical-align: middle;\n    }\n\n    .dataframe tbody tr th {\n        vertical-align: top;\n    }\n\n    .dataframe thead th {\n        text-align: right;\n    }\n</style>\n<table border=\"1\" class=\"dataframe\">\n  <thead>\n    <tr style=\"text-align: right;\">\n      <th></th>\n      <th>index</th>\n      <th>rating</th>\n      <th>comment</th>\n      <th>Quality</th>\n      <th>Serve</th>\n      <th>Price</th>\n      <th>Pack</th>\n      <th>Shipping</th>\n    </tr>\n  </thead>\n  <tbody>\n    <tr>\n      <th>0</th>\n      <td>0</td>\n      <td>1</td>\n      <td>màu nhợt mhat qua thất vọng</td>\n      <td>-1</td>\n      <td>0</td>\n      <td>0</td>\n      <td>0</td>\n      <td>0</td>\n    </tr>\n    <tr>\n      <th>1</th>\n      <td>1</td>\n      <td>1</td>\n      <td>âm thanh không phù hợp để chơi game</td>\n      <td>-1</td>\n      <td>0</td>\n      <td>0</td>\n      <td>0</td>\n      <td>0</td>\n    </tr>\n    <tr>\n      <th>2</th>\n      <td>2</td>\n      <td>3</td>\n      <td>đặt 2 đơn 1 đỏ 1 đen đưa đến lại là 2 cái đen ...</td>\n      <td>0</td>\n      <td>0</td>\n      <td>0</td>\n      <td>0</td>\n      <td>-1</td>\n    </tr>\n    <tr>\n      <th>3</th>\n      <td>3</td>\n      <td>1</td>\n      <td>hàng hơi xấu với trơn</td>\n      <td>-1</td>\n      <td>0</td>\n      <td>0</td>\n      <td>0</td>\n      <td>0</td>\n    </tr>\n    <tr>\n      <th>4</th>\n      <td>4</td>\n      <td>1</td>\n      <td>hàng mới sài 3 bữa thì hư mất 1 loa vệ tinh ro...</td>\n      <td>-1</td>\n      <td>0</td>\n      <td>0</td>\n      <td>0</td>\n      <td>0</td>\n    </tr>\n  </tbody>\n</table>\n</div>"
     },
     "execution_count": 61,
     "metadata": {},
     "output_type": "execute_result"
    }
   ],
   "source": [
    "train.head()"
   ],
   "metadata": {
    "collapsed": false,
    "pycharm": {
     "name": "#%%\n"
    }
   }
  },
  {
   "cell_type": "code",
   "execution_count": 62,
   "outputs": [
    {
     "data": {
      "text/plain": "   index  rating                                            comment  Quality  \\\n0      0       1                        màu nhợt mhat qua thất vọng       -1   \n1      1       1               âm thanh không phù hợp để chơi game        -1   \n2      2       3  đặt 2 đơn 1 đỏ 1 đen đưa đến lại là 2 cái đen ...        0   \n3      3       1                              hàng hơi xấu với trơn       -1   \n4      4       1  hàng mới sài 3 bữa thì hư mất 1 loa vệ tinh ro...       -1   \n\n   Serve Price  Pack  Shipping  \\\n0      0     0     0         0   \n1      0     0     0         0   \n2      0     0     0        -1   \n3      0     0     0         0   \n4      0     0     0         0   \n\n                                    comment_tokenize  \n0                  [màu, nhợt, mhat, qua, thất vọng]  \n1         [âm thanh, không, phù hợp, để, chơi, game]  \n2  [đặt, 2, đơn, 1, đỏ, 1, đen, đưa, đến, lại, là...  \n3                        [hàng, hơi, xấu, với, trơn]  \n4  [hàng, mới, sài, 3, bữa, thì, hư, mất, 1, loa,...  ",
      "text/html": "<div>\n<style scoped>\n    .dataframe tbody tr th:only-of-type {\n        vertical-align: middle;\n    }\n\n    .dataframe tbody tr th {\n        vertical-align: top;\n    }\n\n    .dataframe thead th {\n        text-align: right;\n    }\n</style>\n<table border=\"1\" class=\"dataframe\">\n  <thead>\n    <tr style=\"text-align: right;\">\n      <th></th>\n      <th>index</th>\n      <th>rating</th>\n      <th>comment</th>\n      <th>Quality</th>\n      <th>Serve</th>\n      <th>Price</th>\n      <th>Pack</th>\n      <th>Shipping</th>\n      <th>comment_tokenize</th>\n    </tr>\n  </thead>\n  <tbody>\n    <tr>\n      <th>0</th>\n      <td>0</td>\n      <td>1</td>\n      <td>màu nhợt mhat qua thất vọng</td>\n      <td>-1</td>\n      <td>0</td>\n      <td>0</td>\n      <td>0</td>\n      <td>0</td>\n      <td>[màu, nhợt, mhat, qua, thất vọng]</td>\n    </tr>\n    <tr>\n      <th>1</th>\n      <td>1</td>\n      <td>1</td>\n      <td>âm thanh không phù hợp để chơi game</td>\n      <td>-1</td>\n      <td>0</td>\n      <td>0</td>\n      <td>0</td>\n      <td>0</td>\n      <td>[âm thanh, không, phù hợp, để, chơi, game]</td>\n    </tr>\n    <tr>\n      <th>2</th>\n      <td>2</td>\n      <td>3</td>\n      <td>đặt 2 đơn 1 đỏ 1 đen đưa đến lại là 2 cái đen ...</td>\n      <td>0</td>\n      <td>0</td>\n      <td>0</td>\n      <td>0</td>\n      <td>-1</td>\n      <td>[đặt, 2, đơn, 1, đỏ, 1, đen, đưa, đến, lại, là...</td>\n    </tr>\n    <tr>\n      <th>3</th>\n      <td>3</td>\n      <td>1</td>\n      <td>hàng hơi xấu với trơn</td>\n      <td>-1</td>\n      <td>0</td>\n      <td>0</td>\n      <td>0</td>\n      <td>0</td>\n      <td>[hàng, hơi, xấu, với, trơn]</td>\n    </tr>\n    <tr>\n      <th>4</th>\n      <td>4</td>\n      <td>1</td>\n      <td>hàng mới sài 3 bữa thì hư mất 1 loa vệ tinh ro...</td>\n      <td>-1</td>\n      <td>0</td>\n      <td>0</td>\n      <td>0</td>\n      <td>0</td>\n      <td>[hàng, mới, sài, 3, bữa, thì, hư, mất, 1, loa,...</td>\n    </tr>\n  </tbody>\n</table>\n</div>"
     },
     "execution_count": 62,
     "metadata": {},
     "output_type": "execute_result"
    }
   ],
   "source": [
    "train['comment_tokenize'] = train.comment.apply(word_tokenize)\n",
    "train.head()"
   ],
   "metadata": {
    "collapsed": false,
    "pycharm": {
     "name": "#%%\n"
    }
   }
  },
  {
   "cell_type": "code",
   "execution_count": 63,
   "outputs": [],
   "source": [
    "def remove_bad_word(text):\n",
    "    for word in bad_words:\n",
    "        if word in text:\n",
    "            return text.remove(word)\n",
    "    return text\n",
    "\n",
    "def replace_teen_code(text):\n",
    "    for code in teen_code.keys():\n",
    "        if code in text:\n",
    "            ind = text.index(code)\n",
    "            text[ind] = teen_code[code]\n",
    "            return text\n",
    "    return text"
   ],
   "metadata": {
    "collapsed": false,
    "pycharm": {
     "name": "#%%\n"
    }
   }
  },
  {
   "cell_type": "code",
   "execution_count": 64,
   "outputs": [],
   "source": [
    "train.comment_tokenize = train.comment_tokenize.apply(remove_bad_word)"
   ],
   "metadata": {
    "collapsed": false,
    "pycharm": {
     "name": "#%%\n"
    }
   }
  },
  {
   "cell_type": "code",
   "execution_count": 65,
   "outputs": [
    {
     "data": {
      "text/plain": "(5699, 9)"
     },
     "execution_count": 65,
     "metadata": {},
     "output_type": "execute_result"
    }
   ],
   "source": [
    "train.shape"
   ],
   "metadata": {
    "collapsed": false,
    "pycharm": {
     "name": "#%%\n"
    }
   }
  },
  {
   "cell_type": "code",
   "execution_count": 66,
   "outputs": [
    {
     "data": {
      "text/plain": "(5592, 9)"
     },
     "execution_count": 66,
     "metadata": {},
     "output_type": "execute_result"
    }
   ],
   "source": [
    "train.dropna(inplace=True)\n",
    "train.shape"
   ],
   "metadata": {
    "collapsed": false,
    "pycharm": {
     "name": "#%%\n"
    }
   }
  },
  {
   "cell_type": "code",
   "execution_count": 67,
   "outputs": [],
   "source": [
    "train.comment_tokenize = train.comment_tokenize.apply(replace_teen_code)"
   ],
   "metadata": {
    "collapsed": false,
    "pycharm": {
     "name": "#%%\n"
    }
   }
  },
  {
   "cell_type": "code",
   "execution_count": 70,
   "outputs": [
    {
     "data": {
      "text/plain": "   index  rating                                            comment  Quality  \\\n0      0       1                        màu nhợt mhat qua thất vọng       -1   \n1      1       1               âm thanh không phù hợp để chơi game        -1   \n2      2       3  đặt 2 đơn 1 đỏ 1 đen đưa đến lại là 2 cái đen ...        0   \n3      3       1                              hàng hơi xấu với trơn       -1   \n4      4       1  hàng mới sài 3 bữa thì hư mất 1 loa vệ tinh ro...       -1   \n\n   Serve Price  Pack  Shipping  \\\n0      0     0     0         0   \n1      0     0     0         0   \n2      0     0     0        -1   \n3      0     0     0         0   \n4      0     0     0         0   \n\n                                    comment_tokenize  \n0                  [màu, nhợt, mhat, qua, thất vọng]  \n1         [âm thanh, không, phù hợp, để, chơi, game]  \n2  [đặt, 2, đơn, 1, đỏ, 1, đen, đưa, đến, lại, là...  \n3                        [hàng, hơi, xấu, với, trơn]  \n4  [hàng, mới, sài, 3, bữa, thì, hư, mất, 1, loa,...  ",
      "text/html": "<div>\n<style scoped>\n    .dataframe tbody tr th:only-of-type {\n        vertical-align: middle;\n    }\n\n    .dataframe tbody tr th {\n        vertical-align: top;\n    }\n\n    .dataframe thead th {\n        text-align: right;\n    }\n</style>\n<table border=\"1\" class=\"dataframe\">\n  <thead>\n    <tr style=\"text-align: right;\">\n      <th></th>\n      <th>index</th>\n      <th>rating</th>\n      <th>comment</th>\n      <th>Quality</th>\n      <th>Serve</th>\n      <th>Price</th>\n      <th>Pack</th>\n      <th>Shipping</th>\n      <th>comment_tokenize</th>\n    </tr>\n  </thead>\n  <tbody>\n    <tr>\n      <th>0</th>\n      <td>0</td>\n      <td>1</td>\n      <td>màu nhợt mhat qua thất vọng</td>\n      <td>-1</td>\n      <td>0</td>\n      <td>0</td>\n      <td>0</td>\n      <td>0</td>\n      <td>[màu, nhợt, mhat, qua, thất vọng]</td>\n    </tr>\n    <tr>\n      <th>1</th>\n      <td>1</td>\n      <td>1</td>\n      <td>âm thanh không phù hợp để chơi game</td>\n      <td>-1</td>\n      <td>0</td>\n      <td>0</td>\n      <td>0</td>\n      <td>0</td>\n      <td>[âm thanh, không, phù hợp, để, chơi, game]</td>\n    </tr>\n    <tr>\n      <th>2</th>\n      <td>2</td>\n      <td>3</td>\n      <td>đặt 2 đơn 1 đỏ 1 đen đưa đến lại là 2 cái đen ...</td>\n      <td>0</td>\n      <td>0</td>\n      <td>0</td>\n      <td>0</td>\n      <td>-1</td>\n      <td>[đặt, 2, đơn, 1, đỏ, 1, đen, đưa, đến, lại, là...</td>\n    </tr>\n    <tr>\n      <th>3</th>\n      <td>3</td>\n      <td>1</td>\n      <td>hàng hơi xấu với trơn</td>\n      <td>-1</td>\n      <td>0</td>\n      <td>0</td>\n      <td>0</td>\n      <td>0</td>\n      <td>[hàng, hơi, xấu, với, trơn]</td>\n    </tr>\n    <tr>\n      <th>4</th>\n      <td>4</td>\n      <td>1</td>\n      <td>hàng mới sài 3 bữa thì hư mất 1 loa vệ tinh ro...</td>\n      <td>-1</td>\n      <td>0</td>\n      <td>0</td>\n      <td>0</td>\n      <td>0</td>\n      <td>[hàng, mới, sài, 3, bữa, thì, hư, mất, 1, loa,...</td>\n    </tr>\n  </tbody>\n</table>\n</div>"
     },
     "execution_count": 70,
     "metadata": {},
     "output_type": "execute_result"
    }
   ],
   "source": [
    "train.head()"
   ],
   "metadata": {
    "collapsed": false,
    "pycharm": {
     "name": "#%%\n"
    }
   }
  },
  {
   "cell_type": "code",
   "execution_count": 71,
   "outputs": [],
   "source": [
    "def to_sentence(list_str):\n",
    "    return ' '.join([str(e) for e in list_str])"
   ],
   "metadata": {
    "collapsed": false,
    "pycharm": {
     "name": "#%%\n"
    }
   }
  },
  {
   "cell_type": "code",
   "execution_count": 72,
   "outputs": [],
   "source": [
    "train['new_comment'] = train.comment_tokenize.apply(to_sentence)"
   ],
   "metadata": {
    "collapsed": false,
    "pycharm": {
     "name": "#%%\n"
    }
   }
  },
  {
   "cell_type": "code",
   "execution_count": 73,
   "outputs": [
    {
     "data": {
      "text/plain": "   index  rating                                            comment  Quality  \\\n0      0       1                        màu nhợt mhat qua thất vọng       -1   \n1      1       1               âm thanh không phù hợp để chơi game        -1   \n2      2       3  đặt 2 đơn 1 đỏ 1 đen đưa đến lại là 2 cái đen ...        0   \n3      3       1                              hàng hơi xấu với trơn       -1   \n4      4       1  hàng mới sài 3 bữa thì hư mất 1 loa vệ tinh ro...       -1   \n\n   Serve Price  Pack  Shipping  \\\n0      0     0     0         0   \n1      0     0     0         0   \n2      0     0     0        -1   \n3      0     0     0         0   \n4      0     0     0         0   \n\n                                    comment_tokenize  \\\n0                  [màu, nhợt, mhat, qua, thất vọng]   \n1         [âm thanh, không, phù hợp, để, chơi, game]   \n2  [đặt, 2, đơn, 1, đỏ, 1, đen, đưa, đến, lại, là...   \n3                        [hàng, hơi, xấu, với, trơn]   \n4  [hàng, mới, sài, 3, bữa, thì, hư, mất, 1, loa,...   \n\n                                         new_comment  \n0                        màu nhợt mhat qua thất vọng  \n1                âm thanh không phù hợp để chơi game  \n2  đặt 2 đơn 1 đỏ 1 đen đưa đến lại là 2 cái đen ...  \n3                              hàng hơi xấu với trơn  \n4  hàng mới sài 3 bữa thì hư mất 1 loa vệ tinh ro...  ",
      "text/html": "<div>\n<style scoped>\n    .dataframe tbody tr th:only-of-type {\n        vertical-align: middle;\n    }\n\n    .dataframe tbody tr th {\n        vertical-align: top;\n    }\n\n    .dataframe thead th {\n        text-align: right;\n    }\n</style>\n<table border=\"1\" class=\"dataframe\">\n  <thead>\n    <tr style=\"text-align: right;\">\n      <th></th>\n      <th>index</th>\n      <th>rating</th>\n      <th>comment</th>\n      <th>Quality</th>\n      <th>Serve</th>\n      <th>Price</th>\n      <th>Pack</th>\n      <th>Shipping</th>\n      <th>comment_tokenize</th>\n      <th>new_comment</th>\n    </tr>\n  </thead>\n  <tbody>\n    <tr>\n      <th>0</th>\n      <td>0</td>\n      <td>1</td>\n      <td>màu nhợt mhat qua thất vọng</td>\n      <td>-1</td>\n      <td>0</td>\n      <td>0</td>\n      <td>0</td>\n      <td>0</td>\n      <td>[màu, nhợt, mhat, qua, thất vọng]</td>\n      <td>màu nhợt mhat qua thất vọng</td>\n    </tr>\n    <tr>\n      <th>1</th>\n      <td>1</td>\n      <td>1</td>\n      <td>âm thanh không phù hợp để chơi game</td>\n      <td>-1</td>\n      <td>0</td>\n      <td>0</td>\n      <td>0</td>\n      <td>0</td>\n      <td>[âm thanh, không, phù hợp, để, chơi, game]</td>\n      <td>âm thanh không phù hợp để chơi game</td>\n    </tr>\n    <tr>\n      <th>2</th>\n      <td>2</td>\n      <td>3</td>\n      <td>đặt 2 đơn 1 đỏ 1 đen đưa đến lại là 2 cái đen ...</td>\n      <td>0</td>\n      <td>0</td>\n      <td>0</td>\n      <td>0</td>\n      <td>-1</td>\n      <td>[đặt, 2, đơn, 1, đỏ, 1, đen, đưa, đến, lại, là...</td>\n      <td>đặt 2 đơn 1 đỏ 1 đen đưa đến lại là 2 cái đen ...</td>\n    </tr>\n    <tr>\n      <th>3</th>\n      <td>3</td>\n      <td>1</td>\n      <td>hàng hơi xấu với trơn</td>\n      <td>-1</td>\n      <td>0</td>\n      <td>0</td>\n      <td>0</td>\n      <td>0</td>\n      <td>[hàng, hơi, xấu, với, trơn]</td>\n      <td>hàng hơi xấu với trơn</td>\n    </tr>\n    <tr>\n      <th>4</th>\n      <td>4</td>\n      <td>1</td>\n      <td>hàng mới sài 3 bữa thì hư mất 1 loa vệ tinh ro...</td>\n      <td>-1</td>\n      <td>0</td>\n      <td>0</td>\n      <td>0</td>\n      <td>0</td>\n      <td>[hàng, mới, sài, 3, bữa, thì, hư, mất, 1, loa,...</td>\n      <td>hàng mới sài 3 bữa thì hư mất 1 loa vệ tinh ro...</td>\n    </tr>\n  </tbody>\n</table>\n</div>"
     },
     "execution_count": 73,
     "metadata": {},
     "output_type": "execute_result"
    }
   ],
   "source": [
    "train.head()"
   ],
   "metadata": {
    "collapsed": false,
    "pycharm": {
     "name": "#%%\n"
    }
   }
  },
  {
   "cell_type": "code",
   "execution_count": 74,
   "outputs": [
    {
     "data": {
      "text/plain": "   index  rating                                            comment  Quality  \\\n0      0       1                        màu nhợt mhat qua thất vọng       -1   \n1      1       1               âm thanh không phù hợp để chơi game        -1   \n2      2       3  đặt 2 đơn 1 đỏ 1 đen đưa đến lại là 2 cái đen ...        0   \n3      3       1                              hàng hơi xấu với trơn       -1   \n4      4       1  hàng mới sài 3 bữa thì hư mất 1 loa vệ tinh ro...       -1   \n\n   Serve Price  Pack  Shipping  \\\n0      0     0     0         0   \n1      0     0     0         0   \n2      0     0     0        -1   \n3      0     0     0         0   \n4      0     0     0         0   \n\n                                    comment_tokenize  \\\n0                  [màu, nhợt, mhat, qua, thất vọng]   \n1         [âm thanh, không, phù hợp, để, chơi, game]   \n2  [đặt, 2, đơn, 1, đỏ, 1, đen, đưa, đến, lại, là...   \n3                        [hàng, hơi, xấu, với, trơn]   \n4  [hàng, mới, sài, 3, bữa, thì, hư, mất, 1, loa,...   \n\n                                         new_comment  \n0                        màu nhợt mhat qua thất vọng  \n1                âm thanh không phù hợp để chơi game  \n2  đặt 2 đơn 1 đỏ 1 đen đưa đến lại là 2 cái đen ...  \n3                              hàng hơi xấu với trơn  \n4  hàng mới sài 3 bữa thì hư mất 1 loa vệ tinh ro...  ",
      "text/html": "<div>\n<style scoped>\n    .dataframe tbody tr th:only-of-type {\n        vertical-align: middle;\n    }\n\n    .dataframe tbody tr th {\n        vertical-align: top;\n    }\n\n    .dataframe thead th {\n        text-align: right;\n    }\n</style>\n<table border=\"1\" class=\"dataframe\">\n  <thead>\n    <tr style=\"text-align: right;\">\n      <th></th>\n      <th>index</th>\n      <th>rating</th>\n      <th>comment</th>\n      <th>Quality</th>\n      <th>Serve</th>\n      <th>Price</th>\n      <th>Pack</th>\n      <th>Shipping</th>\n      <th>comment_tokenize</th>\n      <th>new_comment</th>\n    </tr>\n  </thead>\n  <tbody>\n    <tr>\n      <th>0</th>\n      <td>0</td>\n      <td>1</td>\n      <td>màu nhợt mhat qua thất vọng</td>\n      <td>-1</td>\n      <td>0</td>\n      <td>0</td>\n      <td>0</td>\n      <td>0</td>\n      <td>[màu, nhợt, mhat, qua, thất vọng]</td>\n      <td>màu nhợt mhat qua thất vọng</td>\n    </tr>\n    <tr>\n      <th>1</th>\n      <td>1</td>\n      <td>1</td>\n      <td>âm thanh không phù hợp để chơi game</td>\n      <td>-1</td>\n      <td>0</td>\n      <td>0</td>\n      <td>0</td>\n      <td>0</td>\n      <td>[âm thanh, không, phù hợp, để, chơi, game]</td>\n      <td>âm thanh không phù hợp để chơi game</td>\n    </tr>\n    <tr>\n      <th>2</th>\n      <td>2</td>\n      <td>3</td>\n      <td>đặt 2 đơn 1 đỏ 1 đen đưa đến lại là 2 cái đen ...</td>\n      <td>0</td>\n      <td>0</td>\n      <td>0</td>\n      <td>0</td>\n      <td>-1</td>\n      <td>[đặt, 2, đơn, 1, đỏ, 1, đen, đưa, đến, lại, là...</td>\n      <td>đặt 2 đơn 1 đỏ 1 đen đưa đến lại là 2 cái đen ...</td>\n    </tr>\n    <tr>\n      <th>3</th>\n      <td>3</td>\n      <td>1</td>\n      <td>hàng hơi xấu với trơn</td>\n      <td>-1</td>\n      <td>0</td>\n      <td>0</td>\n      <td>0</td>\n      <td>0</td>\n      <td>[hàng, hơi, xấu, với, trơn]</td>\n      <td>hàng hơi xấu với trơn</td>\n    </tr>\n    <tr>\n      <th>4</th>\n      <td>4</td>\n      <td>1</td>\n      <td>hàng mới sài 3 bữa thì hư mất 1 loa vệ tinh ro...</td>\n      <td>-1</td>\n      <td>0</td>\n      <td>0</td>\n      <td>0</td>\n      <td>0</td>\n      <td>[hàng, mới, sài, 3, bữa, thì, hư, mất, 1, loa,...</td>\n      <td>hàng mới sài 3 bữa thì hư mất 1 loa vệ tinh ro...</td>\n    </tr>\n  </tbody>\n</table>\n</div>"
     },
     "execution_count": 74,
     "metadata": {},
     "output_type": "execute_result"
    }
   ],
   "source": [
    "train_copy = train.copy()\n",
    "train_copy.head()"
   ],
   "metadata": {
    "collapsed": false,
    "pycharm": {
     "name": "#%%\n"
    }
   }
  },
  {
   "cell_type": "code",
   "execution_count": 75,
   "outputs": [
    {
     "data": {
      "text/plain": "   rating  Quality  Serve Price  Pack  Shipping  \\\n0       1       -1      0     0     0         0   \n1       1       -1      0     0     0         0   \n2       3        0      0     0     0        -1   \n3       1       -1      0     0     0         0   \n4       1       -1      0     0     0         0   \n\n                                         new_comment  \n0                        màu nhợt mhat qua thất vọng  \n1                âm thanh không phù hợp để chơi game  \n2  đặt 2 đơn 1 đỏ 1 đen đưa đến lại là 2 cái đen ...  \n3                              hàng hơi xấu với trơn  \n4  hàng mới sài 3 bữa thì hư mất 1 loa vệ tinh ro...  ",
      "text/html": "<div>\n<style scoped>\n    .dataframe tbody tr th:only-of-type {\n        vertical-align: middle;\n    }\n\n    .dataframe tbody tr th {\n        vertical-align: top;\n    }\n\n    .dataframe thead th {\n        text-align: right;\n    }\n</style>\n<table border=\"1\" class=\"dataframe\">\n  <thead>\n    <tr style=\"text-align: right;\">\n      <th></th>\n      <th>rating</th>\n      <th>Quality</th>\n      <th>Serve</th>\n      <th>Price</th>\n      <th>Pack</th>\n      <th>Shipping</th>\n      <th>new_comment</th>\n    </tr>\n  </thead>\n  <tbody>\n    <tr>\n      <th>0</th>\n      <td>1</td>\n      <td>-1</td>\n      <td>0</td>\n      <td>0</td>\n      <td>0</td>\n      <td>0</td>\n      <td>màu nhợt mhat qua thất vọng</td>\n    </tr>\n    <tr>\n      <th>1</th>\n      <td>1</td>\n      <td>-1</td>\n      <td>0</td>\n      <td>0</td>\n      <td>0</td>\n      <td>0</td>\n      <td>âm thanh không phù hợp để chơi game</td>\n    </tr>\n    <tr>\n      <th>2</th>\n      <td>3</td>\n      <td>0</td>\n      <td>0</td>\n      <td>0</td>\n      <td>0</td>\n      <td>-1</td>\n      <td>đặt 2 đơn 1 đỏ 1 đen đưa đến lại là 2 cái đen ...</td>\n    </tr>\n    <tr>\n      <th>3</th>\n      <td>1</td>\n      <td>-1</td>\n      <td>0</td>\n      <td>0</td>\n      <td>0</td>\n      <td>0</td>\n      <td>hàng hơi xấu với trơn</td>\n    </tr>\n    <tr>\n      <th>4</th>\n      <td>1</td>\n      <td>-1</td>\n      <td>0</td>\n      <td>0</td>\n      <td>0</td>\n      <td>0</td>\n      <td>hàng mới sài 3 bữa thì hư mất 1 loa vệ tinh ro...</td>\n    </tr>\n  </tbody>\n</table>\n</div>"
     },
     "execution_count": 75,
     "metadata": {},
     "output_type": "execute_result"
    }
   ],
   "source": [
    "train_copy = train_copy.drop(columns=['index', 'comment', 'comment_tokenize'])\n",
    "train_copy.head()"
   ],
   "metadata": {
    "collapsed": false,
    "pycharm": {
     "name": "#%%\n"
    }
   }
  },
  {
   "cell_type": "code",
   "execution_count": 76,
   "outputs": [],
   "source": [
    "def change(x):\n",
    "    if x < 0:\n",
    "        return x*(-1)\n",
    "    return x"
   ],
   "metadata": {
    "collapsed": false,
    "pycharm": {
     "name": "#%%\n"
    }
   }
  },
  {
   "cell_type": "code",
   "execution_count": 57,
   "outputs": [],
   "source": [
    "train_copy.to_csv('train_before_pre_processing.csv')"
   ],
   "metadata": {
    "collapsed": false,
    "pycharm": {
     "name": "#%%\n"
    }
   }
  }
 ],
 "metadata": {
  "kernelspec": {
   "display_name": "Python 3",
   "language": "python",
   "name": "python3"
  },
  "language_info": {
   "codemirror_mode": {
    "name": "ipython",
    "version": 2
   },
   "file_extension": ".py",
   "mimetype": "text/x-python",
   "name": "python",
   "nbconvert_exporter": "python",
   "pygments_lexer": "ipython2",
   "version": "2.7.6"
  }
 },
 "nbformat": 4,
 "nbformat_minor": 0
}