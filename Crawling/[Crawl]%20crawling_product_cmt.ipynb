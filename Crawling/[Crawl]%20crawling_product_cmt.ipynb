{
 "metadata": {
  "language_info": {
   "codemirror_mode": {
    "name": "ipython",
    "version": 3
   },
   "file_extension": ".py",
   "mimetype": "text/x-python",
   "name": "python",
   "nbconvert_exporter": "python",
   "pygments_lexer": "ipython3",
   "version": "3.7.7-final"
  },
  "orig_nbformat": 2,
  "kernelspec": {
   "name": "python3",
   "display_name": "Python 3",
   "language": "python"
  }
 },
 "nbformat": 4,
 "nbformat_minor": 2,
 "cells": [
  {
   "source": [
    "Crawl dữ liệu từ shopee theo từng category"
   ],
   "cell_type": "markdown",
   "metadata": {}
  },
  {
   "cell_type": "code",
   "execution_count": 1,
   "metadata": {},
   "outputs": [],
   "source": [
    "from selenium import webdriver\n",
    "from time import sleep\n",
    "from selenium.webdriver.common.keys import Keys\n",
    "from tqdm import tqdm\n",
    "import pandas as pd\n",
    "\n",
    "PATH = \"C:\\Program Files (x86)\\Microsoft\\Edge\\Application\\msedgedriver.exe\"\n"
   ]
  },
  {
   "cell_type": "code",
   "execution_count": 2,
   "metadata": {},
   "outputs": [],
   "source": [
    "driver = webdriver.Edge(PATH)\n",
    "# get tạm để lấy cache\n",
    "driver.get('https://shopee.vn/%C4%90i%E1%BB%87n-tho%E1%BA%A1i-Nokia-6300-%C4%91%E1%BA%A7y-%C4%91%E1%BB%A7-pin-s%E1%BA%A1c-m%C3%A0u-b%E1%BA%A1c-i.39413762.5162298482')"
   ]
  },
  {
   "cell_type": "code",
   "execution_count": 3,
   "metadata": {},
   "outputs": [
    {
     "output_type": "execute_result",
     "data": {
      "text/plain": [
       "   id                                               name   category  n_sold  \\\n",
       "0   0  Điện thoại Xiaomi Redmi Note 9S 4GB/64GB - Hàn...  DIENTHOAI  5600.0   \n",
       "1   1  Điện thoại OPPO A37 Fullbox Mới - 2GB/16GB - B...  DIENTHOAI  7800.0   \n",
       "2   2  điện thoại Samsung Galaxy S7 chính hãng / full...  DIENTHOAI  6600.0   \n",
       "3   3  Điện thoại Nokia 1280 Huyền thoại chính hãng k...  DIENTHOAI  4100.0   \n",
       "4   4  Điện thoại Nokia 1280 Nguyên zin Mới tinh chín...  DIENTHOAI  8800.0   \n",
       "\n",
       "       price     shop_address  \\\n",
       "0  5490000.0  TP. Hồ Chí Minh   \n",
       "1  1299000.0  TP. Hồ Chí Minh   \n",
       "2  1899000.0  TP. Hồ Chí Minh   \n",
       "3   189900.0  TP. Hồ Chí Minh   \n",
       "4   189900.0  TP. Hồ Chí Minh   \n",
       "\n",
       "                                           image_url  \\\n",
       "0  https://cf.shopee.vn/file/b982abe468e4813d2ba0...   \n",
       "1  https://cf.shopee.vn/file/654146756efe4b5fe7cf...   \n",
       "2  https://cf.shopee.vn/file/622be579c39efa0ea92b...   \n",
       "3  https://cf.shopee.vn/file/c92a82f0a1e8076fcc1e...   \n",
       "4  https://cf.shopee.vn/file/c92a82f0a1e8076fcc1e...   \n",
       "\n",
       "                                                 url  \n",
       "0  https://shopee.vn/%C4%90i%E1%BB%87n-tho%E1%BA%...  \n",
       "1  https://shopee.vn/%C4%90i%E1%BB%87n-tho%E1%BA%...  \n",
       "2  https://shopee.vn/%C4%91i%E1%BB%87n-tho%E1%BA%...  \n",
       "3  https://shopee.vn/%C4%90i%E1%BB%87n-tho%E1%BA%...  \n",
       "4  https://shopee.vn/%C4%90i%E1%BB%87n-tho%E1%BA%...  "
      ],
      "text/html": "<div>\n<style scoped>\n    .dataframe tbody tr th:only-of-type {\n        vertical-align: middle;\n    }\n\n    .dataframe tbody tr th {\n        vertical-align: top;\n    }\n\n    .dataframe thead th {\n        text-align: right;\n    }\n</style>\n<table border=\"1\" class=\"dataframe\">\n  <thead>\n    <tr style=\"text-align: right;\">\n      <th></th>\n      <th>id</th>\n      <th>name</th>\n      <th>category</th>\n      <th>n_sold</th>\n      <th>price</th>\n      <th>shop_address</th>\n      <th>image_url</th>\n      <th>url</th>\n    </tr>\n  </thead>\n  <tbody>\n    <tr>\n      <th>0</th>\n      <td>0</td>\n      <td>Điện thoại Xiaomi Redmi Note 9S 4GB/64GB - Hàn...</td>\n      <td>DIENTHOAI</td>\n      <td>5600.0</td>\n      <td>5490000.0</td>\n      <td>TP. Hồ Chí Minh</td>\n      <td>https://cf.shopee.vn/file/b982abe468e4813d2ba0...</td>\n      <td>https://shopee.vn/%C4%90i%E1%BB%87n-tho%E1%BA%...</td>\n    </tr>\n    <tr>\n      <th>1</th>\n      <td>1</td>\n      <td>Điện thoại OPPO A37 Fullbox Mới - 2GB/16GB - B...</td>\n      <td>DIENTHOAI</td>\n      <td>7800.0</td>\n      <td>1299000.0</td>\n      <td>TP. Hồ Chí Minh</td>\n      <td>https://cf.shopee.vn/file/654146756efe4b5fe7cf...</td>\n      <td>https://shopee.vn/%C4%90i%E1%BB%87n-tho%E1%BA%...</td>\n    </tr>\n    <tr>\n      <th>2</th>\n      <td>2</td>\n      <td>điện thoại Samsung Galaxy S7 chính hãng / full...</td>\n      <td>DIENTHOAI</td>\n      <td>6600.0</td>\n      <td>1899000.0</td>\n      <td>TP. Hồ Chí Minh</td>\n      <td>https://cf.shopee.vn/file/622be579c39efa0ea92b...</td>\n      <td>https://shopee.vn/%C4%91i%E1%BB%87n-tho%E1%BA%...</td>\n    </tr>\n    <tr>\n      <th>3</th>\n      <td>3</td>\n      <td>Điện thoại Nokia 1280 Huyền thoại chính hãng k...</td>\n      <td>DIENTHOAI</td>\n      <td>4100.0</td>\n      <td>189900.0</td>\n      <td>TP. Hồ Chí Minh</td>\n      <td>https://cf.shopee.vn/file/c92a82f0a1e8076fcc1e...</td>\n      <td>https://shopee.vn/%C4%90i%E1%BB%87n-tho%E1%BA%...</td>\n    </tr>\n    <tr>\n      <th>4</th>\n      <td>4</td>\n      <td>Điện thoại Nokia 1280 Nguyên zin Mới tinh chín...</td>\n      <td>DIENTHOAI</td>\n      <td>8800.0</td>\n      <td>189900.0</td>\n      <td>TP. Hồ Chí Minh</td>\n      <td>https://cf.shopee.vn/file/c92a82f0a1e8076fcc1e...</td>\n      <td>https://shopee.vn/%C4%90i%E1%BB%87n-tho%E1%BA%...</td>\n    </tr>\n  </tbody>\n</table>\n</div>"
     },
     "metadata": {},
     "execution_count": 3
    }
   ],
   "source": [
    "search_list = pd.read_csv('search.csv',sep='\\t')\n",
    "search_list.to_csv('search_withid.csv',sep='\\t',index_label='id')\n",
    "search_list = pd.read_csv('search_withid.csv',sep='\\t')\n",
    "search_list.head()"
   ]
  },
  {
   "cell_type": "code",
   "execution_count": 4,
   "metadata": {},
   "outputs": [],
   "source": [
    "def reformate_numeric(x):\n",
    "    if x[-1] == 'k':\n",
    "        x = float(x.replace(\",\",\".\").strip(\"k\")) * 1000\n",
    "    else:\n",
    "        x = float(x)\n",
    "    return x"
   ]
  },
  {
   "cell_type": "code",
   "execution_count": 28,
   "metadata": {
    "tags": []
   },
   "outputs": [
    {
     "output_type": "stream",
     "name": "stderr",
     "text": [
      "100%|██████████| 100/100 [1:04:25<00:00, 38.65s/it]\n"
     ]
    }
   ],
   "source": [
    "from cssselector import *\n",
    "missing_i = []\n",
    "f = open('items_cmt.csv', 'w', encoding=\"utf-8\")\n",
    "f.write(f'id\\trating\\tcontent\\n')\n",
    "for i,search_item in tqdm(search_list.iterrows(),total=len(search_list),position=0, leave=True):\n",
    "    try:\n",
    "        curl = search_item.url\n",
    "        driver.get(curl)\n",
    "        sleep(1)\n",
    "        total_height = int(driver.execute_script(\"return document.body.scrollHeight\"))\n",
    "        for j in range(1, total_height, 100):\n",
    "            driver.execute_script(\"window.scrollTo(0, {});\".format(j))\n",
    "            sleep(0.5)\n",
    "        list_cmt = driver.find_elements_by_css_selector(CSSSelector.CMT_LIST)\n",
    "        cid = search_item['id']\n",
    "        for it in list_cmt:\n",
    "            stars = it.find_element_by_css_selector(CSSSelector.CMT_RATING)\n",
    "            stars = stars.find_elements_by_css_selector(CSSSelector.CMT_STAR_ACTIVE)\n",
    "            rating = len(stars)\n",
    "            content = it.find_element_by_css_selector(CSSSelector.CMT_CONTENT).text.replace('\\n','. ')             \n",
    "            f.write(f'{cid}\\t{rating}\\t{content}\\n')\n",
    "    except:\n",
    "        # print('Missing ',i)\n",
    "        missing_i.append(i)\n",
    "    #     break\n",
    "    # if i>=5: break\n",
    "f.close()"
   ]
  },
  {
   "cell_type": "code",
   "execution_count": 29,
   "metadata": {},
   "outputs": [
    {
     "output_type": "execute_result",
     "data": {
      "text/plain": [
       "[]"
      ]
     },
     "metadata": {},
     "execution_count": 29
    }
   ],
   "source": [
    "missing_i"
   ]
  },
  {
   "cell_type": "code",
   "execution_count": 27,
   "metadata": {},
   "outputs": [
    {
     "output_type": "stream",
     "name": "stderr",
     "text": [
      "0it [00:00, ?it/s]\n"
     ]
    }
   ],
   "source": [
    "from cssselector import *\n",
    "f = open('items_cmt.csv', 'a', encoding=\"utf-8\")\n",
    "search_list_missing = search_list.iloc[missing_i]\n",
    "missing_i = []\n",
    "for i,search_item in tqdm(search_list_missing.iterrows(),total=len(search_list_missing),position=0, leave=True):\n",
    "    try:\n",
    "        curl = search_item.url\n",
    "        driver.get(curl)\n",
    "        sleep(1)\n",
    "        total_height = int(driver.execute_script(\"return document.body.scrollHeight\"))\n",
    "        for j in range(1, total_height, 100):\n",
    "            driver.execute_script(\"window.scrollTo(0, {});\".format(j))\n",
    "            sleep(0.5)\n",
    "\n",
    "        list_cmt = driver.find_elements_by_css_selector(CSSSelector.CMT_LIST)\n",
    "        cid = search_item['id']\n",
    "        for it in list_cmt:\n",
    "            stars = it.find_element_by_css_selector(CSSSelector.CMT_RATING)\n",
    "            stars = stars.find_elements_by_css_selector(CSSSelector.CMT_STAR_ACTIVE)\n",
    "            rating = len(stars)\n",
    "            content = it.find_element_by_css_selector(CSSSelector.CMT_CONTENT).text.replace('\\n','. ')   \n",
    "            f.write(f'{cid}\\t{rating}\\t{content}\\n')\n",
    "    except:\n",
    "        # print('Missing ',i)\n",
    "        missing_i.append(i)\n",
    "    #     break\n",
    "    # break\n",
    "f.close()"
   ]
  },
  {
   "cell_type": "code",
   "execution_count": 13,
   "metadata": {},
   "outputs": [],
   "source": [
    "pd.read_csv('items_cmt.csv', sep='\\t').sort_values(by=['id'], ascending=True, axis=0).to_csv('items_cmt_sorted_id.csv',sep='\\t',index=False)"
   ]
  },
  {
   "source": [
    "# using requests"
   ],
   "cell_type": "markdown",
   "metadata": {}
  },
  {
   "cell_type": "code",
   "execution_count": 31,
   "metadata": {},
   "outputs": [
    {
     "output_type": "execute_result",
     "data": {
      "text/plain": [
       "   id                                               name   category  n_sold  \\\n",
       "0   0  Điện thoại OPPO A37 Fullbox Mới - 2GB/16GB - B...  DIENTHOAI  7800.0   \n",
       "1   1  điện thoại Samsung Galaxy S7 chính hãng / full...  DIENTHOAI  6600.0   \n",
       "2   2  Điện thoại Nokia 1280 Nguyên zin Mới tinh chín...  DIENTHOAI  8800.0   \n",
       "3   3  ĐIỆN THOẠI NOKIA 1202 MỚI TINH FULL SẠC PIN CH...  DIENTHOAI  6100.0   \n",
       "4   4  điện thoại Samsung Galaxy S7 Edge 2 sim ram 4G...  DIENTHOAI  5400.0   \n",
       "\n",
       "       price     shop_address  \\\n",
       "0  1299000.0  TP. Hồ Chí Minh   \n",
       "1  1899000.0  TP. Hồ Chí Minh   \n",
       "2   189900.0  TP. Hồ Chí Minh   \n",
       "3   175000.0  TP. Hồ Chí Minh   \n",
       "4  2799000.0  TP. Hồ Chí Minh   \n",
       "\n",
       "                                           image_url  \\\n",
       "0  https://cf.shopee.vn/file/654146756efe4b5fe7cf...   \n",
       "1  https://cf.shopee.vn/file/622be579c39efa0ea92b...   \n",
       "2  https://cf.shopee.vn/file/c92a82f0a1e8076fcc1e...   \n",
       "3  https://cf.shopee.vn/file/b36a13ed46c0e3feab04...   \n",
       "4  https://cf.shopee.vn/file/deb114c783e8feb58d6c...   \n",
       "\n",
       "                                                 url  \n",
       "0  https://shopee.vn/%C4%90i%E1%BB%87n-tho%E1%BA%...  \n",
       "1  https://shopee.vn/%C4%91i%E1%BB%87n-tho%E1%BA%...  \n",
       "2  https://shopee.vn/%C4%90i%E1%BB%87n-tho%E1%BA%...  \n",
       "3  https://shopee.vn/%C4%90I%E1%BB%86N-THO%E1%BA%...  \n",
       "4  https://shopee.vn/%C4%91i%E1%BB%87n-tho%E1%BA%...  "
      ],
      "text/html": "<div>\n<style scoped>\n    .dataframe tbody tr th:only-of-type {\n        vertical-align: middle;\n    }\n\n    .dataframe tbody tr th {\n        vertical-align: top;\n    }\n\n    .dataframe thead th {\n        text-align: right;\n    }\n</style>\n<table border=\"1\" class=\"dataframe\">\n  <thead>\n    <tr style=\"text-align: right;\">\n      <th></th>\n      <th>id</th>\n      <th>name</th>\n      <th>category</th>\n      <th>n_sold</th>\n      <th>price</th>\n      <th>shop_address</th>\n      <th>image_url</th>\n      <th>url</th>\n    </tr>\n  </thead>\n  <tbody>\n    <tr>\n      <th>0</th>\n      <td>0</td>\n      <td>Điện thoại OPPO A37 Fullbox Mới - 2GB/16GB - B...</td>\n      <td>DIENTHOAI</td>\n      <td>7800.0</td>\n      <td>1299000.0</td>\n      <td>TP. Hồ Chí Minh</td>\n      <td>https://cf.shopee.vn/file/654146756efe4b5fe7cf...</td>\n      <td>https://shopee.vn/%C4%90i%E1%BB%87n-tho%E1%BA%...</td>\n    </tr>\n    <tr>\n      <th>1</th>\n      <td>1</td>\n      <td>điện thoại Samsung Galaxy S7 chính hãng / full...</td>\n      <td>DIENTHOAI</td>\n      <td>6600.0</td>\n      <td>1899000.0</td>\n      <td>TP. Hồ Chí Minh</td>\n      <td>https://cf.shopee.vn/file/622be579c39efa0ea92b...</td>\n      <td>https://shopee.vn/%C4%91i%E1%BB%87n-tho%E1%BA%...</td>\n    </tr>\n    <tr>\n      <th>2</th>\n      <td>2</td>\n      <td>Điện thoại Nokia 1280 Nguyên zin Mới tinh chín...</td>\n      <td>DIENTHOAI</td>\n      <td>8800.0</td>\n      <td>189900.0</td>\n      <td>TP. Hồ Chí Minh</td>\n      <td>https://cf.shopee.vn/file/c92a82f0a1e8076fcc1e...</td>\n      <td>https://shopee.vn/%C4%90i%E1%BB%87n-tho%E1%BA%...</td>\n    </tr>\n    <tr>\n      <th>3</th>\n      <td>3</td>\n      <td>ĐIỆN THOẠI NOKIA 1202 MỚI TINH FULL SẠC PIN CH...</td>\n      <td>DIENTHOAI</td>\n      <td>6100.0</td>\n      <td>175000.0</td>\n      <td>TP. Hồ Chí Minh</td>\n      <td>https://cf.shopee.vn/file/b36a13ed46c0e3feab04...</td>\n      <td>https://shopee.vn/%C4%90I%E1%BB%86N-THO%E1%BA%...</td>\n    </tr>\n    <tr>\n      <th>4</th>\n      <td>4</td>\n      <td>điện thoại Samsung Galaxy S7 Edge 2 sim ram 4G...</td>\n      <td>DIENTHOAI</td>\n      <td>5400.0</td>\n      <td>2799000.0</td>\n      <td>TP. Hồ Chí Minh</td>\n      <td>https://cf.shopee.vn/file/deb114c783e8feb58d6c...</td>\n      <td>https://shopee.vn/%C4%91i%E1%BB%87n-tho%E1%BA%...</td>\n    </tr>\n  </tbody>\n</table>\n</div>"
     },
     "metadata": {},
     "execution_count": 31
    }
   ],
   "source": [
    "search_list_full = pd.read_csv('search.csv',sep='\\t')\n",
    "search_list_full.to_csv('search_withid.csv',sep='\\t',index_label='id')\n",
    "search_list_full = pd.read_csv('search_withid.csv',sep='\\t')\n",
    "search_list_full.head()"
   ]
  },
  {
   "cell_type": "code",
   "execution_count": 26,
   "metadata": {
    "tags": []
   },
   "outputs": [
    {
     "output_type": "stream",
     "name": "stderr",
     "text": [
      "100%|██████████| 100/100 [00:47<00:00,  2.08it/s]\n"
     ]
    }
   ],
   "source": [
    "import requests\n",
    "# r = requests.get('https://shopee.vn/api/v2/item/get_ratings?filter=0&flag=1&itemid=4952265828&limit=20&offset=0&shopid=203317301&type=0')\n",
    "# for ob in r.json()['data']['ratings']:\n",
    "#     print(ob['rating_star'], ob['comment'])\n",
    "\n",
    "missing_i = []\n",
    "f = open('items_cmt.csv', 'w', encoding=\"utf-8\")\n",
    "f.write(f'id\\trating\\tcontent\\n')\n",
    "for i,search_item in tqdm(search_list_full.iterrows(),total=len(search_list_full),position=0, leave=True):\n",
    "    try:\n",
    "        curl = search_item.url\n",
    "        curl_split = curl.split('.')\n",
    "        shopid = curl_split[-2]\n",
    "        itemid = curl_split[-1]\n",
    "        r = requests.get(f'https://shopee.vn/api/v2/item/get_ratings?filter=0&flag=1&itemid={itemid}&limit=6&offset=0&shopid={shopid}&type=0')\n",
    "        cid = search_item['id']\n",
    "        for ob in r.json()['data']['ratings']:\n",
    "            rating = ob['rating_star']\n",
    "            content = ob['comment'].replace('\\n','. ')     \n",
    "            f.write(f'{cid}\\t{rating}\\t{content}\\n')\n",
    "    except:\n",
    "        # print('Missing ',i)\n",
    "        missing_i.append(i)\n",
    "    #     break\n",
    "    # if i>=5: break\n",
    "f.close()"
   ]
  },
  {
   "cell_type": "code",
   "execution_count": null,
   "metadata": {},
   "outputs": [],
   "source": []
  }
 ]
}