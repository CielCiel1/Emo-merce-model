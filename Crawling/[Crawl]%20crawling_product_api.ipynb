{
 "metadata": {
  "language_info": {
   "codemirror_mode": {
    "name": "ipython",
    "version": 3
   },
   "file_extension": ".py",
   "mimetype": "text/x-python",
   "name": "python",
   "nbconvert_exporter": "python",
   "pygments_lexer": "ipython3",
   "version": "3.7.7-final"
  },
  "orig_nbformat": 2,
  "kernelspec": {
   "name": "python3",
   "display_name": "Python 3",
   "language": "python"
  }
 },
 "nbformat": 4,
 "nbformat_minor": 2,
 "cells": [
  {
   "source": [
    "Crawl dữ liệu từ shopee theo từng category"
   ],
   "cell_type": "markdown",
   "metadata": {}
  },
  {
   "cell_type": "code",
   "execution_count": 15,
   "metadata": {},
   "outputs": [],
   "source": [
    "from selenium import webdriver\n",
    "from time import sleep\n",
    "from selenium.webdriver.common.keys import Keys\n",
    "from tqdm import tqdm\n",
    "import pandas as pd\n",
    "import requests\n",
    "import time\n",
    "\n"
   ]
  },
  {
   "cell_type": "code",
   "execution_count": 3,
   "metadata": {},
   "outputs": [
    {
     "output_type": "execute_result",
     "data": {
      "text/plain": [
       "   id                                               name   category  n_sold  \\\n",
       "0   0  Điện thoại OPPO A37 Fullbox Mới - 2GB/16GB - B...  DIENTHOAI  7800.0   \n",
       "1   1  điện thoại Samsung Galaxy S7 chính hãng / full...  DIENTHOAI  6600.0   \n",
       "2   2  Điện thoại Nokia 1280 Nguyên zin Mới tinh chín...  DIENTHOAI  8800.0   \n",
       "3   3  ĐIỆN THOẠI NOKIA 1202 MỚI TINH FULL SẠC PIN CH...  DIENTHOAI  6100.0   \n",
       "4   4  điện thoại Samsung Galaxy S7 Edge 2 sim ram 4G...  DIENTHOAI  5400.0   \n",
       "\n",
       "       price     shop_address  \\\n",
       "0  1299000.0  TP. Hồ Chí Minh   \n",
       "1  1899000.0  TP. Hồ Chí Minh   \n",
       "2   189900.0  TP. Hồ Chí Minh   \n",
       "3   175000.0  TP. Hồ Chí Minh   \n",
       "4  2799000.0  TP. Hồ Chí Minh   \n",
       "\n",
       "                                           image_url  \\\n",
       "0  https://cf.shopee.vn/file/654146756efe4b5fe7cf...   \n",
       "1  https://cf.shopee.vn/file/622be579c39efa0ea92b...   \n",
       "2  https://cf.shopee.vn/file/c92a82f0a1e8076fcc1e...   \n",
       "3  https://cf.shopee.vn/file/b36a13ed46c0e3feab04...   \n",
       "4  https://cf.shopee.vn/file/deb114c783e8feb58d6c...   \n",
       "\n",
       "                                                 url  \n",
       "0  https://shopee.vn/%C4%90i%E1%BB%87n-tho%E1%BA%...  \n",
       "1  https://shopee.vn/%C4%91i%E1%BB%87n-tho%E1%BA%...  \n",
       "2  https://shopee.vn/%C4%90i%E1%BB%87n-tho%E1%BA%...  \n",
       "3  https://shopee.vn/%C4%90I%E1%BB%86N-THO%E1%BA%...  \n",
       "4  https://shopee.vn/%C4%91i%E1%BB%87n-tho%E1%BA%...  "
      ],
      "text/html": "<div>\n<style scoped>\n    .dataframe tbody tr th:only-of-type {\n        vertical-align: middle;\n    }\n\n    .dataframe tbody tr th {\n        vertical-align: top;\n    }\n\n    .dataframe thead th {\n        text-align: right;\n    }\n</style>\n<table border=\"1\" class=\"dataframe\">\n  <thead>\n    <tr style=\"text-align: right;\">\n      <th></th>\n      <th>id</th>\n      <th>name</th>\n      <th>category</th>\n      <th>n_sold</th>\n      <th>price</th>\n      <th>shop_address</th>\n      <th>image_url</th>\n      <th>url</th>\n    </tr>\n  </thead>\n  <tbody>\n    <tr>\n      <th>0</th>\n      <td>0</td>\n      <td>Điện thoại OPPO A37 Fullbox Mới - 2GB/16GB - B...</td>\n      <td>DIENTHOAI</td>\n      <td>7800.0</td>\n      <td>1299000.0</td>\n      <td>TP. Hồ Chí Minh</td>\n      <td>https://cf.shopee.vn/file/654146756efe4b5fe7cf...</td>\n      <td>https://shopee.vn/%C4%90i%E1%BB%87n-tho%E1%BA%...</td>\n    </tr>\n    <tr>\n      <th>1</th>\n      <td>1</td>\n      <td>điện thoại Samsung Galaxy S7 chính hãng / full...</td>\n      <td>DIENTHOAI</td>\n      <td>6600.0</td>\n      <td>1899000.0</td>\n      <td>TP. Hồ Chí Minh</td>\n      <td>https://cf.shopee.vn/file/622be579c39efa0ea92b...</td>\n      <td>https://shopee.vn/%C4%91i%E1%BB%87n-tho%E1%BA%...</td>\n    </tr>\n    <tr>\n      <th>2</th>\n      <td>2</td>\n      <td>Điện thoại Nokia 1280 Nguyên zin Mới tinh chín...</td>\n      <td>DIENTHOAI</td>\n      <td>8800.0</td>\n      <td>189900.0</td>\n      <td>TP. Hồ Chí Minh</td>\n      <td>https://cf.shopee.vn/file/c92a82f0a1e8076fcc1e...</td>\n      <td>https://shopee.vn/%C4%90i%E1%BB%87n-tho%E1%BA%...</td>\n    </tr>\n    <tr>\n      <th>3</th>\n      <td>3</td>\n      <td>ĐIỆN THOẠI NOKIA 1202 MỚI TINH FULL SẠC PIN CH...</td>\n      <td>DIENTHOAI</td>\n      <td>6100.0</td>\n      <td>175000.0</td>\n      <td>TP. Hồ Chí Minh</td>\n      <td>https://cf.shopee.vn/file/b36a13ed46c0e3feab04...</td>\n      <td>https://shopee.vn/%C4%90I%E1%BB%86N-THO%E1%BA%...</td>\n    </tr>\n    <tr>\n      <th>4</th>\n      <td>4</td>\n      <td>điện thoại Samsung Galaxy S7 Edge 2 sim ram 4G...</td>\n      <td>DIENTHOAI</td>\n      <td>5400.0</td>\n      <td>2799000.0</td>\n      <td>TP. Hồ Chí Minh</td>\n      <td>https://cf.shopee.vn/file/deb114c783e8feb58d6c...</td>\n      <td>https://shopee.vn/%C4%91i%E1%BB%87n-tho%E1%BA%...</td>\n    </tr>\n  </tbody>\n</table>\n</div>"
     },
     "metadata": {},
     "execution_count": 3
    }
   ],
   "source": [
    "search_list_full = pd.read_csv('search.csv',sep='\\t')\n",
    "search_list_full.to_csv('search_withid.csv',sep='\\t',index_label='id')\n",
    "search_list_full = pd.read_csv('search_withid.csv',sep='\\t')\n",
    "search_list_full.head()"
   ]
  },
  {
   "cell_type": "code",
   "execution_count": 26,
   "metadata": {
    "tags": []
   },
   "outputs": [
    {
     "output_type": "stream",
     "name": "stderr",
     "text": [
      "  0%|          | 0/15648 [00:01<?, ?it/s]\n"
     ]
    }
   ],
   "source": [
    "missing_i = []\n",
    "f = open('items.csv', 'w', encoding=\"utf-8\")\n",
    "f.write(f'id\\tname\\tavg_rating\\tn_reviews\\tn_sold\\tprice\\tn_loved\\tn_rate_5\\trate_4\\trate_3\\trate_2\\trate_1\\trate_with_cmt\\trate_with_imgvid\\tshop_name\\tshop_n_review\\tshop_n_product\\tshop_rate_feedback\\tshop_time_feedback\\tshop_age\\tshop_follower\\n')\n",
    "for i,search_item in tqdm(search_list_full.iterrows(),total=len(search_list_full),position=0, leave=True):\n",
    "    try:\n",
    "        curl = search_item.url\n",
    "        curl_split = curl.split('.')\n",
    "        shopid = curl_split[-2]\n",
    "        itemid = curl_split[-1]\n",
    "\n",
    "        name = search_item['name']\n",
    "\n",
    "        r = requests.get(f'https://shopee.vn/api/v2/item/get?itemid={itemid}&shopid={shopid}')\n",
    "        avg_rating, n_reviews, n_loved = r.json()['item']['item_rating']['rating_star'], r.json()['item']['item_rating']['rating_count'][0],r.json()['item']['liked_count']\n",
    "        \n",
    "        r = requests.get(f'https://shopee.vn/api/v2/item/get_ratings?filter=0&flag=1&itemid={itemid}&limit=6&offset=0&shopid={shopid}&type=5')\n",
    "        \n",
    "        rate_1, rate_2,rate_3, rate_4,rate_5 =  r.json()['data']['item_rating_summary']['rating_count']      \n",
    "        rate_with_cmt =    r.json()['data']['item_rating_summary']['rcount_with_context']\n",
    "        rate_with_imgvid = r.json()['data']['item_rating_summary']['rcount_with_media']\n",
    "        n_sold = search_item['n_sold']\n",
    "        price = search_item['price']\n",
    "        cid = search_item['id']\n",
    "\n",
    "        r = requests.get(f'https://shopee.vn/api/v2/shop/get?is_brief=1&shopid={shopid}')\n",
    "\n",
    "        shop_name, shop_n_review , shop_n_product , shop_rate_feedback, shop_time_feedback, shop_age , shop_follower = r.json()['data']['account']['username'],r.json()['data']['rating_bad'] + r.json()['data']['rating_normal'] + r.json()['data']['rating_good'], r.json()['data']['item_count'], r.json()['data']['response_rate'], r.json()['data']['response_time'], (time.time()  - r.json()['data']['ctime']) ,r.json()['data']['follower_count']      \n",
    "\n",
    "        \n",
    "        f.write(f'{cid}\\t{name}\\t{avg_rating}\\t{n_reviews}\\t{n_sold}\\t{price}\\t{n_loved}\\t{rate_5}\\t{rate_4}\\t{rate_3}\\t{rate_2}\\t{rate_1}\\t{rate_with_cmt}\\t{rate_with_imgvid}\\t{shop_name}\\t{shop_n_review}\\t{shop_n_product}\\t{shop_rate_feedback}\\t{shop_time_feedback}\\t{shop_age}\\t{shop_follower}\\n')\n",
    "    except:\n",
    "        # print('Missing ',i)\n",
    "        missing_i.append(i)\n",
    "    #     break\n",
    "    # break\n",
    "f.close()"
   ]
  },
  {
   "cell_type": "code",
   "execution_count": 6,
   "metadata": {},
   "outputs": [
    {
     "output_type": "execute_result",
     "data": {
      "text/plain": [
       "[20]"
      ]
     },
     "metadata": {},
     "execution_count": 6
    }
   ],
   "source": [
    "missing_i"
   ]
  },
  {
   "cell_type": "code",
   "execution_count": 9,
   "metadata": {},
   "outputs": [
    {
     "output_type": "stream",
     "name": "stderr",
     "text": [
      "100%|██████████| 1/1 [00:24<00:00, 24.97s/it]\n"
     ]
    }
   ],
   "source": [
    "from cssselector import *\n",
    "f = open('items.csv', 'a', encoding=\"utf-8\")\n",
    "search_list_missing = search_list_full.iloc[missing_i]\n",
    "missing_i = []\n",
    "for i,search_item in tqdm(search_list_missing.iterrows(),total=len(search_list_missing),position=0, leave=True):\n",
    "    try:\n",
    "        curl = search_item.url\n",
    "        curl_split = curl.split('.')\n",
    "        shopid = curl_split[-2]\n",
    "        itemid = curl_split[-1]\n",
    "\n",
    "        name = search_item['name']\n",
    "\n",
    "        r = requests.get(f'https://shopee.vn/api/v2/item/get?itemid={itemid}&shopid={shopid}')\n",
    "        avg_rating, n_reviews, n_loved = r.json()['item']['item_rating']['rating_star'], r.json()['item']['item_rating']['rating_count'][0],r.json()['item']['liked_count']\n",
    "        \n",
    "        r = requests.get(f'https://shopee.vn/api/v2/item/get_ratings?filter=0&flag=1&itemid={itemid}&limit=6&offset=0&shopid={shopid}&type=5')\n",
    "        \n",
    "        rate_1, rate_2,rate_3, rate_4,rate_5 =  r.json()['data']['item_rating_summary']['rating_count']      \n",
    "        rate_with_cmt =    r.json()['data']['item_rating_summary']['rcount_with_context']\n",
    "        rate_with_imgvid = r.json()['data']['item_rating_summary']['rcount_with_media']\n",
    "        n_sold = search_item['n_sold']\n",
    "        price = search_item['price']\n",
    "        cid = search_item['id']\n",
    "\n",
    "        r = requests.get(f'https://shopee.vn/api/v2/shop/get?is_brief=1&shopid={shopid}')\n",
    "\n",
    "        shop_name, shop_n_review , shop_n_product , shop_rate_feedback, shop_time_feedback, shop_age , shop_follower = r.json()['data']['account']['username'],r.json()['data']['rating_bad'] + r.json()['data']['rating_normal'] + r.json()['data']['rating_good'], r.json()['data']['item_count'], r.json()['data']['response_rate'], r.json()['data']['response_time'], (time.time()  - r.json()['data']['ctime']) ,r.json()['data']['follower_count']      \n",
    "\n",
    "        \n",
    "        f.write(f'{cid}\\t{name}\\t{avg_rating}\\t{n_reviews}\\t{n_sold}\\t{price}\\t{n_loved}\\t{rate_5}\\t{rate_4}\\t{rate_3}\\t{rate_2}\\t{rate_1}\\t{rate_with_cmt}\\t{rate_with_imgvid}\\t{shop_name}\\t{shop_n_review}\\t{shop_n_product}\\t{shop_rate_feedback}\\t{shop_time_feedback}\\t{shop_age}\\t{shop_follower}\\n')\n",
    "    except:\n",
    "        # print('Missing ',i)\n",
    "        missing_i.append(i)\n",
    "    #     break\n",
    "    # break\n",
    "f.close()"
   ]
  },
  {
   "cell_type": "code",
   "execution_count": 13,
   "metadata": {},
   "outputs": [],
   "source": [
    "pd.read_csv('items.csv', sep='\\t').sort_values(by=['id'], ascending=True, axis=0).to_csv('items_sorted_id.csv',sep='\\t',index=False)"
   ]
  },
  {
   "cell_type": "code",
   "execution_count": null,
   "metadata": {},
   "outputs": [],
   "source": []
  }
 ]
}